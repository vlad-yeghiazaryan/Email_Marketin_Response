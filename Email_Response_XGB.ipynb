{
  "nbformat": 4,
  "nbformat_minor": 0,
  "metadata": {
    "accelerator": "GPU",
    "colab": {
      "name": "Email_Response_XGB.ipynb",
      "provenance": [],
      "collapsed_sections": []
    },
    "hide_input": false,
    "kernelspec": {
      "display_name": "Python 3",
      "language": "python",
      "name": "python3"
    },
    "language_info": {
      "codemirror_mode": {
        "name": "ipython",
        "version": 3
      },
      "file_extension": ".py",
      "mimetype": "text/x-python",
      "name": "python",
      "nbconvert_exporter": "python",
      "pygments_lexer": "ipython3",
      "version": "3.8.10"
    },
    "latex_envs": {
      "LaTeX_envs_menu_present": true,
      "autoclose": false,
      "autocomplete": true,
      "bibliofile": "biblio.bib",
      "cite_by": "apalike",
      "current_citInitial": 1,
      "eqLabelWithNumbers": true,
      "eqNumInitial": 1,
      "hotkeys": {
        "equation": "Ctrl-E",
        "itemize": "Ctrl-I"
      },
      "labels_anchors": false,
      "latex_user_defs": false,
      "report_style_numbering": false,
      "user_envs_cfg": false
    },
    "toc": {
      "base_numbering": 1,
      "nav_menu": {},
      "number_sections": true,
      "sideBar": true,
      "skip_h1_title": false,
      "title_cell": "Table of Contents",
      "title_sidebar": "Contents",
      "toc_cell": false,
      "toc_position": {},
      "toc_section_display": true,
      "toc_window_display": false
    },
    "varInspector": {
      "cols": {
        "lenName": 16,
        "lenType": 16,
        "lenVar": 40
      },
      "kernels_config": {
        "python": {
          "delete_cmd_postfix": "",
          "delete_cmd_prefix": "del ",
          "library": "var_list.py",
          "varRefreshCmd": "print(var_dic_list())"
        },
        "r": {
          "delete_cmd_postfix": ") ",
          "delete_cmd_prefix": "rm(",
          "library": "var_list.r",
          "varRefreshCmd": "cat(var_dic_list()) "
        }
      },
      "types_to_exclude": [
        "module",
        "function",
        "builtin_function_or_method",
        "instance",
        "_Feature"
      ],
      "window_display": false
    }
  },
  "cells": [
    {
      "cell_type": "markdown",
      "metadata": {
        "heading_collapsed": true,
        "id": "kiuJYkBERlQq"
      },
      "source": [
        "# Login"
      ]
    },
    {
      "cell_type": "code",
      "metadata": {
        "hidden": true,
        "id": "zUotGF_XYe4U"
      },
      "source": [
        "# !pip install scikit-plot \n",
        "# !pip install datacleaner\n",
        "# !pip install shap\n",
        "# !pip install --upgrade scikit-learn\n",
        "# !pip install xgboost\n",
        "# !pip instal pandas\n",
        "# !pip install numpy\n",
        "# !pip install  wandb\n",
        "# !pip install seaborn"
      ],
      "execution_count": null,
      "outputs": []
    },
    {
      "cell_type": "code",
      "metadata": {
        "colab": {
          "base_uri": "https://localhost:8080/"
        },
        "hidden": true,
        "id": "3dzAF91Pw7NP",
        "outputId": "9b931429-0019-4720-8a00-51201b60cc8b"
      },
      "source": [
        "import os, sys\n",
        "from google.colab import drive\n",
        "drive.mount('/content/drive')\n",
        "data_path = '/content/data'\n",
        "os.symlink('/content/drive/MyDrive/Colab Notebooks/data', data_path)\n",
        "sys.path.insert(0,data_path)"
      ],
      "execution_count": null,
      "outputs": [
        {
          "output_type": "stream",
          "text": [
            "Mounted at /content/drive\n"
          ],
          "name": "stdout"
        }
      ]
    },
    {
      "cell_type": "markdown",
      "metadata": {
        "heading_collapsed": true,
        "id": "nOjmfOEMpVPS"
      },
      "source": [
        "# Setup"
      ]
    },
    {
      "cell_type": "code",
      "metadata": {
        "hidden": true,
        "id": "ci__v3RTxMG2"
      },
      "source": [
        "# Essentials\n",
        "import numpy as np\n",
        "import pandas as pd\n",
        "import matplotlib.pyplot as plt\n",
        "import seaborn as sns\n",
        "import scikitplot as skplt\n",
        "\n",
        "# Data preprocessing\n",
        "from sklearn.pipeline import Pipeline\n",
        "from sklearn.compose import ColumnTransformer\n",
        "from sklearn.base import BaseEstimator,TransformerMixin\n",
        "from sklearn.compose import make_column_selector as selector\n",
        "from sklearn.preprocessing import LabelEncoder, OrdinalEncoder, StandardScaler, RobustScaler\n",
        "from sklearn.impute import SimpleImputer\n",
        "\n",
        "# Tests\n",
        "import scipy as sp\n",
        "import sklearn\n",
        "\n",
        "# Experimental \n",
        "from sklearn.experimental import enable_halving_search_cv # noqa\n",
        "\n",
        "# Models\n",
        "from xgboost import XGBClassifier\n",
        "\n",
        "# Performace indicators and Model selection\n",
        "from sklearn.model_selection import train_test_split, GridSearchCV, cross_val_score, learning_curve\n",
        "from sklearn.model_selection import HalvingRandomSearchCV, StratifiedKFold\n",
        "from sklearn.metrics import roc_auc_score, roc_curve\n",
        "from sklearn.metrics import accuracy_score, classification_report, confusion_matrix, recall_score\n",
        "from sklearn.metrics import r2_score\n",
        "from sklearn.feature_selection import RFECV\n",
        "from skopt import BayesSearchCV\n",
        "from skopt.space import Real, Categorical, Integer\n",
        "from skopt.plots import plot_objective\n",
        "\n",
        "# Interpretation\n",
        "import shap\n",
        "\n",
        "# Utilities\n",
        "from sklearn import set_config\n",
        "from sklearn.model_selection import ParameterGrid\n",
        "import  warnings\n",
        "set_config(display='diagram')\n",
        "pd.set_option('display.max_columns', None)\n",
        "import winsound\n",
        "# import wandb\n",
        "# wandb.init()"
      ],
      "execution_count": null,
      "outputs": []
    },
    {
      "cell_type": "code",
      "metadata": {
        "hidden": true,
        "id": "a6Y4MeYBYLRL"
      },
      "source": [
        "# Useful Functions\n",
        "def model_performance(X0, X1, Y0, Y1, model):\n",
        "    Y0_predict = model.predict(X0)\n",
        "    Y1_predict = model.predict(X1)\n",
        "\n",
        "    Y0_hat = model.predict_proba(X0)[:, 1]\n",
        "    Y1_hat = model.predict_proba(X1)[:, 1]\n",
        "\n",
        "    print('\\nROC AUC Train', roc_auc_score(Y0, Y0_hat).round(3))\n",
        "    print('ROC AUC Test', roc_auc_score(Y1, Y1_hat).round(3))\n",
        "    print('-------------------------')\n",
        "    print('\\nClassification Report Train')\n",
        "    print(classification_report(Y0, Y0_predict))\n",
        "    print('-------------------------')\n",
        "    print('\\nClassification Report Test')\n",
        "    print(classification_report(Y1, Y1_predict))\n",
        "    print('-------------------------')"
      ],
      "execution_count": null,
      "outputs": []
    },
    {
      "cell_type": "code",
      "metadata": {
        "hidden": true,
        "id": "gfYx6haBhtpk"
      },
      "source": [
        "class OutlierWinsorization(BaseEstimator,TransformerMixin):\n",
        "    def __init__(self, bound_threshold=0.95):\n",
        "        self.bound_threshold = bound_threshold\n",
        "        \n",
        "    def outlier_Winsor(self, X, y=None):\n",
        "        X[(X < self.lower_bound)] = (self.lower_bound*[X < self.lower_bound]).reshape(X.shape)[X < self.lower_bound]\n",
        "        X[(X > self.upper_bound)] = (self.upper_bound*[X > self.upper_bound]).reshape(X.shape)[X > self.upper_bound]\n",
        "        return X\n",
        "    \n",
        "    def fit(self, X, y=None):\n",
        "        self.lower_bound = np.quantile(X, (1 - self.bound_threshold), axis=0)\n",
        "        self.upper_bound = np.quantile(X, self.bound_threshold, axis=0)\n",
        "        return self\n",
        "    \n",
        "    def transform(self, X, y=None):\n",
        "        return self.outlier_Winsor(X)\n",
        "\n",
        "class LowFreqCombiner(BaseEstimator, TransformerMixin):\n",
        "    def __init__(self, threshold=0.01, fill_value=-1):\n",
        "        self.threshold = threshold\n",
        "        self.fill_value = fill_value\n",
        "\n",
        "    def combine_low_freq(self, col, y=None):\n",
        "        col = np.array(col)\n",
        "        values, counts = np.unique(col, return_counts=True)\n",
        "        other_value_indices = np.in1d(col, values[(counts/len(col)) <= self.threshold])\n",
        "        return np.where(other_value_indices, self.fill_value, col)\n",
        "    \n",
        "    def fit(self, X, y=None):\n",
        "        return self\n",
        "    \n",
        "    def transform(self, X, y=None):\n",
        "        return np.apply_along_axis(self.combine_low_freq, 0, X)\n",
        "\n",
        "class AddColumnNames(BaseEstimator, TransformerMixin):\n",
        "    def __init__(self, preprocessor):\n",
        "        self.preprocessor = preprocessor\n",
        "\n",
        "    def fit(self, X, y=None):\n",
        "        return self\n",
        "    \n",
        "    def transform(self, X, y=None):\n",
        "        return pd.DataFrame(X, columns=get_feature_names(self.preprocessor))"
      ],
      "execution_count": null,
      "outputs": []
    },
    {
      "cell_type": "code",
      "metadata": {
        "hidden": true,
        "id": "drH70lDILgG6"
      },
      "source": [
        "def get_feature_names(column_transformer):\n",
        "    \"\"\"Get feature names from all transformers.\n",
        "    Returns\n",
        "    -------\n",
        "    feature_names : list of strings\n",
        "        Names of the features produced by transform.\n",
        "    \"\"\"\n",
        "    # Remove the internal helper function\n",
        "    #check_is_fitted(column_transformer)\n",
        "    \n",
        "    # Turn loopkup into function for better handling with pipeline later\n",
        "    def get_names(trans):\n",
        "        # >> Original get_feature_names() method\n",
        "        if trans == 'drop' or (\n",
        "                hasattr(column, '__len__') and not len(column)):\n",
        "            return []\n",
        "        if trans == 'passthrough':\n",
        "            if hasattr(column_transformer, '_df_columns'):\n",
        "                if ((not isinstance(column, slice))\n",
        "                        and all(isinstance(col, str) for col in column)):\n",
        "                    return column\n",
        "                else:\n",
        "                    return column_transformer._df_columns[column]\n",
        "            else:\n",
        "                indices = np.arange(column_transformer._n_features)\n",
        "                return ['x%d' % i for i in indices[column]]\n",
        "        if not hasattr(trans, 'get_feature_names'):\n",
        "        # >>> Change: Return input column names if no method avaiable\n",
        "            # Turn error into a warning\n",
        "            warnings.warn(\"Transformer %s (type %s) does not \"\n",
        "                                 \"provide get_feature_names. \"\n",
        "                                 \"Will return input column names if available\"\n",
        "                                 % (str(name), type(trans).__name__))\n",
        "            # For transformers without a get_features_names method, use the input\n",
        "            # names to the column transformer\n",
        "            if column is None:\n",
        "                return []\n",
        "            else:\n",
        "                return [name + \"__\" + f for f in column]\n",
        "\n",
        "        return [name + \"__\" + f for f in trans.get_feature_names()]\n",
        "    \n",
        "    ### Start of processing\n",
        "    feature_names = []\n",
        "    \n",
        "    # Allow transformers to be pipelines. Pipeline steps are named differently, so preprocessing is needed\n",
        "    if type(column_transformer) == sklearn.pipeline.Pipeline:\n",
        "        l_transformers = [(name, trans, None, None) for step, name, trans in column_transformer._iter()]\n",
        "    else:\n",
        "        # For column transformers, follow the original method\n",
        "        l_transformers = list(column_transformer._iter(fitted=True))\n",
        "    \n",
        "    \n",
        "    for name, trans, column, _ in l_transformers: \n",
        "        if type(trans) == sklearn.pipeline.Pipeline:\n",
        "            # Recursive call on pipeline\n",
        "            _names = get_feature_names(trans)\n",
        "            # if pipeline has no transformer that returns names\n",
        "            if len(_names)==0:\n",
        "                _names = [name + \"__\" + f for f in column]\n",
        "            feature_names.extend(_names)\n",
        "        else:\n",
        "            feature_names.extend(get_names(trans))\n",
        "    \n",
        "    return feature_names"
      ],
      "execution_count": null,
      "outputs": []
    },
    {
      "cell_type": "code",
      "metadata": {
        "hidden": true,
        "id": "ujQ-k8W0c_uN"
      },
      "source": [
        "class Generalizer():\n",
        "    def __init__(self, model, X, y, fit_params, test_size=0.25, random_state=42):\n",
        "        self.model = model\n",
        "        self.fit_params = fit_params\n",
        "        self.X = X\n",
        "        self.y = y\n",
        "        self.X_train, self.X_test, self.y_train, self.y_test = train_test_split(X, y, test_size=test_size, stratify=y, \n",
        "                                                                                random_state=random_state)\n",
        "\n",
        "    def generalize(self, model_parameter_search, base_cv_score, cv_diff_threshold=0.005):\n",
        "        param_grid = list(ParameterGrid(model_parameter_search))\n",
        "        self.differences = []\n",
        "        self.lowest_diff = base_cv_score\n",
        "        self.best_params = param_grid[0]\n",
        "        for params in param_grid:\n",
        "            self.model.set_params(**params)\n",
        "            self.model.fit(self.X_train, self.y_train, **self.fit_params)\n",
        "            y_train_pred = self.model.predict_proba(self.X_train)[:,1]\n",
        "            y_test_pred = self.model.predict_proba(self.X_test)[:,1]\n",
        "            train_score = roc_auc_score(self.y_train, y_train_pred)\n",
        "            test_score = roc_auc_score(self.y_test, y_test_pred)\n",
        "            diff = abs(train_score - test_score)\n",
        "            cv_score = cross_val_score(self.model, self.X, self.y, cv=5, scoring='roc_auc', \n",
        "                                       fit_params=self.fit_params).mean()\n",
        "            cv_diff = abs(base_cv_score - cv_score)\n",
        "            if cv_diff < cv_diff_threshold:\n",
        "                if diff <  self.lowest_diff:\n",
        "                    self.lowest_diff = diff\n",
        "                    self.best_params = params\n",
        "            self.differences.append({'diff':diff, 'cv_diff':cv_diff})\n",
        "        return self"
      ],
      "execution_count": null,
      "outputs": []
    },
    {
      "cell_type": "markdown",
      "metadata": {
        "heading_collapsed": true,
        "id": "Cg7Uf38VYLRo"
      },
      "source": [
        "# Alternative models with pipelines"
      ]
    },
    {
      "cell_type": "code",
      "metadata": {
        "hidden": true,
        "id": "T9znKP6gYLRp"
      },
      "source": [
        "# Importing the data\n",
        "dataset = pd.read_csv('./data/email_marketing.csv')\n",
        "dataset = dataset.drop(dataset.tail(1).index)\n",
        "\n",
        "# Setting up variables\n",
        "target = 'RESPONSE_FLAG'\n",
        "X = dataset.drop(target, axis=1)\n",
        "y = dataset[target]\n",
        "\n",
        "# Splittind data\n",
        "X_train, X_test, y_train, y_test = train_test_split(X, y, test_size=0.25, stratify=y, random_state=42)\n",
        "\n",
        "# Performing some preprocessing\n",
        "numeric_transformer = Pipeline(steps=[\n",
        "    ('NumericImputer', SimpleImputer(strategy='constant')),\n",
        "    ('RobustScaler', RobustScaler(quantile_range=(5.0, 95.0)))])\n",
        "\n",
        "categorical_transformer = Pipeline(steps=[\n",
        "    ('CategImputer', SimpleImputer(strategy='most_frequent', fill_value='Missing')),\n",
        "    ('OrdinalEncoder', OrdinalEncoder(handle_unknown='use_encoded_value', unknown_value=-1))])\n",
        "\n",
        "# entire pipeline\n",
        "preprocessor = ColumnTransformer(transformers=[\n",
        "    ('numeric', numeric_transformer, selector(dtype_exclude=\"object\")),\n",
        "    ('categorical', categorical_transformer, selector(dtype_include=\"object\"))\n",
        "], remainder='passthrough', n_jobs=-1)"
      ],
      "execution_count": null,
      "outputs": []
    },
    {
      "cell_type": "code",
      "metadata": {
        "hidden": true,
        "id": "4GNVd9HtYLRp"
      },
      "source": [
        "preprocess_params = {'preprocessor__numeric__NumericImputer__fill_value': [-9999, -1, 0, 9999],\n",
        "                     'preprocessor__numeric__RobustScaler__quantile_range': [(25.0, 75.0), (10.0, 90.0), \n",
        "                                                                             (5.0, 95.0), (1.0, 99.0), (0.1, 99.9)],\n",
        "                     'preprocessor__categorical__CategImputer__strategy': ['most_frequent', 'constant']\n",
        "                     }\n",
        "\n",
        "pxgb_params = {'max_depth': range(2, 10), 'colsample_bytree': np.arange(0.1, 1.1, 0.1),\n",
        "               'colsample_bylevel': np.arange(0.1, 1.1, 0.1),\n",
        "               'subsample': np.arange(0.1, 1.1, 0.1),\n",
        "               'n_estimators': [75, 100, 150, 200, 250],\n",
        "               'learning_rate': [0.1, 0.05, 0.025, 0.001],\n",
        "               'min_child_weight': [1], 'reg_lambda': [1], 'gamma': [1.0], \n",
        "               'use_label_encoder': [False], 'random_state': [42], \n",
        "               'n_jobs': [-1],'tree_method': ['gpu_hist'], 'gpu_id': [0]\n",
        "               }\n",
        "\n",
        "pxgb_gs_params = {**{'classifier__' + str(key): val for key, val in pxgb_params.items()}, **preprocess_params}\n",
        "\n",
        "PXBG = Pipeline([('preprocessor', preprocessor),\n",
        "                ('classifier', XGBClassifier())])"
      ],
      "execution_count": null,
      "outputs": []
    },
    {
      "cell_type": "code",
      "metadata": {
        "colab": {
          "base_uri": "https://localhost:8080/"
        },
        "hidden": true,
        "id": "ZW6Y5C7QwkN3",
        "outputId": "bf69828d-d47c-4fb8-c394-11a88f651304"
      },
      "source": [
        "%%time\n",
        "xgb_fit_params = {'eval_metric':'auc', \n",
        "                   'eval_set': [(PXBG.named_steps['preprocessor'].fit(X_train).transform(X_test), y_test)], \n",
        "                   'early_stopping_rounds': 10, 'verbose': False}\n",
        "\n",
        "pxgb_fit_params = {'classifier__' + str(key): val for key, val in xgb_fit_params.items()}\n",
        "\n",
        "pxgb_hrs = HalvingRandomSearchCV(estimator=PXBG, param_distributions=pxgb_gs_params, \n",
        "                                 scoring=\"roc_auc\", factor=2, cv=5, n_jobs=-1, \n",
        "                                 random_state=42, verbose=0, resource='n_samples', \n",
        "                                 aggressive_elimination=True, min_resources=50, \n",
        "                                 error_score='raise')\n",
        "\n",
        "pxgb_hrs.fit(X_train, y_train, **pxgb_fit_params)\n",
        "print('Best Params:', pxgb_hrs.best_params_)\n",
        "print('AUC Score:', round((pxgb_hrs.best_score_), 4))"
      ],
      "execution_count": null,
      "outputs": [
        {
          "output_type": "stream",
          "text": [
            "Best Params: {'preprocessor__numeric__RobustScaler__quantile_range': (5.0, 95.0), 'preprocessor__numeric__NumericImputer__fill_value': 9999, 'preprocessor__categorical__CategImputer__strategy': 'constant', 'classifier__use_label_encoder': False, 'classifier__tree_method': 'gpu_hist', 'classifier__subsample': 0.7000000000000001, 'classifier__reg_lambda': 1, 'classifier__random_state': 42, 'classifier__n_jobs': -1, 'classifier__n_estimators': 250, 'classifier__min_child_weight': 1, 'classifier__max_depth': 3, 'classifier__learning_rate': 0.1, 'classifier__gpu_id': 0, 'classifier__gamma': 1.0, 'classifier__colsample_bytree': 0.5, 'classifier__colsample_bylevel': 1.0}\n",
            "AUC Score: 0.7737\n",
            "Wall time: 10min 32s\n"
          ],
          "name": "stdout"
        }
      ]
    },
    {
      "cell_type": "code",
      "metadata": {
        "colab": {
          "base_uri": "https://localhost:8080/",
          "height": 673
        },
        "hidden": true,
        "id": "n8HrCbtUyX-L",
        "outputId": "ae756b7d-dd36-40d7-fb89-29cd49c860e5"
      },
      "source": [
        "display(pxgb_hrs)\n",
        "model_performance(X_train, X_test, y_train, y_test, pxgb_hrs)"
      ],
      "execution_count": null,
      "outputs": [
        {
          "output_type": "display_data",
          "data": {
            "text/html": [
              "<style>#sk-f5188463-d975-4916-b07e-f423dbd8171b {color: black;background-color: white;}#sk-f5188463-d975-4916-b07e-f423dbd8171b pre{padding: 0;}#sk-f5188463-d975-4916-b07e-f423dbd8171b div.sk-toggleable {background-color: white;}#sk-f5188463-d975-4916-b07e-f423dbd8171b label.sk-toggleable__label {cursor: pointer;display: block;width: 100%;margin-bottom: 0;padding: 0.2em 0.3em;box-sizing: border-box;text-align: center;}#sk-f5188463-d975-4916-b07e-f423dbd8171b div.sk-toggleable__content {max-height: 0;max-width: 0;overflow: hidden;text-align: left;background-color: #f0f8ff;}#sk-f5188463-d975-4916-b07e-f423dbd8171b div.sk-toggleable__content pre {margin: 0.2em;color: black;border-radius: 0.25em;background-color: #f0f8ff;}#sk-f5188463-d975-4916-b07e-f423dbd8171b input.sk-toggleable__control:checked~div.sk-toggleable__content {max-height: 200px;max-width: 100%;overflow: auto;}#sk-f5188463-d975-4916-b07e-f423dbd8171b div.sk-estimator input.sk-toggleable__control:checked~label.sk-toggleable__label {background-color: #d4ebff;}#sk-f5188463-d975-4916-b07e-f423dbd8171b div.sk-label input.sk-toggleable__control:checked~label.sk-toggleable__label {background-color: #d4ebff;}#sk-f5188463-d975-4916-b07e-f423dbd8171b input.sk-hidden--visually {border: 0;clip: rect(1px 1px 1px 1px);clip: rect(1px, 1px, 1px, 1px);height: 1px;margin: -1px;overflow: hidden;padding: 0;position: absolute;width: 1px;}#sk-f5188463-d975-4916-b07e-f423dbd8171b div.sk-estimator {font-family: monospace;background-color: #f0f8ff;margin: 0.25em 0.25em;border: 1px dotted black;border-radius: 0.25em;box-sizing: border-box;}#sk-f5188463-d975-4916-b07e-f423dbd8171b div.sk-estimator:hover {background-color: #d4ebff;}#sk-f5188463-d975-4916-b07e-f423dbd8171b div.sk-parallel-item::after {content: \"\";width: 100%;border-bottom: 1px solid gray;flex-grow: 1;}#sk-f5188463-d975-4916-b07e-f423dbd8171b div.sk-label:hover label.sk-toggleable__label {background-color: #d4ebff;}#sk-f5188463-d975-4916-b07e-f423dbd8171b div.sk-serial::before {content: \"\";position: absolute;border-left: 1px solid gray;box-sizing: border-box;top: 2em;bottom: 0;left: 50%;}#sk-f5188463-d975-4916-b07e-f423dbd8171b div.sk-serial {display: flex;flex-direction: column;align-items: center;background-color: white;}#sk-f5188463-d975-4916-b07e-f423dbd8171b div.sk-item {z-index: 1;}#sk-f5188463-d975-4916-b07e-f423dbd8171b div.sk-parallel {display: flex;align-items: stretch;justify-content: center;background-color: white;}#sk-f5188463-d975-4916-b07e-f423dbd8171b div.sk-parallel-item {display: flex;flex-direction: column;position: relative;background-color: white;}#sk-f5188463-d975-4916-b07e-f423dbd8171b div.sk-parallel-item:first-child::after {align-self: flex-end;width: 50%;}#sk-f5188463-d975-4916-b07e-f423dbd8171b div.sk-parallel-item:last-child::after {align-self: flex-start;width: 50%;}#sk-f5188463-d975-4916-b07e-f423dbd8171b div.sk-parallel-item:only-child::after {width: 0;}#sk-f5188463-d975-4916-b07e-f423dbd8171b div.sk-dashed-wrapped {border: 1px dashed gray;margin: 0.2em;box-sizing: border-box;padding-bottom: 0.1em;background-color: white;position: relative;}#sk-f5188463-d975-4916-b07e-f423dbd8171b div.sk-label label {font-family: monospace;font-weight: bold;background-color: white;display: inline-block;line-height: 1.2em;}#sk-f5188463-d975-4916-b07e-f423dbd8171b div.sk-label-container {position: relative;z-index: 2;text-align: center;}#sk-f5188463-d975-4916-b07e-f423dbd8171b div.sk-container {display: inline-block;position: relative;}</style><div id=\"sk-f5188463-d975-4916-b07e-f423dbd8171b\" class\"sk-top-container\"><div class=\"sk-container\"><div class=\"sk-item sk-dashed-wrapped\"><div class=\"sk-label-container\"><div class=\"sk-label sk-toggleable\"><input class=\"sk-toggleable__control sk-hidden--visually\" id=\"e9766878-490a-4145-86a6-a0faa84dd0fa\" type=\"checkbox\" ><label class=\"sk-toggleable__label\" for=\"e9766878-490a-4145-86a6-a0faa84dd0fa\">HalvingRandomSearchCV</label><div class=\"sk-toggleable__content\"><pre>HalvingRandomSearchCV(aggressive_elimination=True, error_score='raise',\n",
              "                      estimator=Pipeline(steps=[('preprocessor',\n",
              "                                                 ColumnTransformer(n_jobs=-1,\n",
              "                                                                   remainder='passthrough',\n",
              "                                                                   transformers=[('numeric',\n",
              "                                                                                  Pipeline(steps=[('NumericImputer',\n",
              "                                                                                                   SimpleImputer(strategy='constant')),\n",
              "                                                                                                  ('RobustScaler',\n",
              "                                                                                                   RobustScaler(quantile_range=(5.0,\n",
              "                                                                                                                                95.0)))]),\n",
              "                                                                                  <sklearn.compose._column_transfo...\n",
              "                                           'preprocessor__categorical__CategImputer__strategy': ['most_frequent',\n",
              "                                                                                                 'constant'],\n",
              "                                           'preprocessor__numeric__NumericImputer__fill_value': [-9999,\n",
              "                                                                                                 -1,\n",
              "                                                                                                 0,\n",
              "                                                                                                 9999],\n",
              "                                           'preprocessor__numeric__RobustScaler__quantile_range': [(25.0,\n",
              "                                                                                                    75.0),\n",
              "                                                                                                   (10.0,\n",
              "                                                                                                    90.0),\n",
              "                                                                                                   (5.0,\n",
              "                                                                                                    95.0),\n",
              "                                                                                                   (1.0,\n",
              "                                                                                                    99.0),\n",
              "                                                                                                   (0.1,\n",
              "                                                                                                    99.9)]},\n",
              "                      random_state=42,\n",
              "                      refit=<function _refit_callable at 0x000001E624785EE0>,\n",
              "                      scoring='roc_auc')</pre></div></div></div><div class=\"sk-parallel\"><div class=\"sk-parallel-item\"><div class=\"sk-item\"><div class=\"sk-serial\"><div class=\"sk-item\"><div class=\"sk-serial\"><div class=\"sk-item sk-dashed-wrapped\"><div class=\"sk-label-container\"><div class=\"sk-label sk-toggleable\"><input class=\"sk-toggleable__control sk-hidden--visually\" id=\"7c808b42-33d6-44bf-8cbe-1e7f42dc0a63\" type=\"checkbox\" ><label class=\"sk-toggleable__label\" for=\"7c808b42-33d6-44bf-8cbe-1e7f42dc0a63\">preprocessor: ColumnTransformer</label><div class=\"sk-toggleable__content\"><pre>ColumnTransformer(n_jobs=-1, remainder='passthrough',\n",
              "                  transformers=[('numeric',\n",
              "                                 Pipeline(steps=[('NumericImputer',\n",
              "                                                  SimpleImputer(strategy='constant')),\n",
              "                                                 ('RobustScaler',\n",
              "                                                  RobustScaler(quantile_range=(5.0,\n",
              "                                                                               95.0)))]),\n",
              "                                 <sklearn.compose._column_transformer.make_column_selector object at 0x000001E61EFB6400>),\n",
              "                                ('categorical',\n",
              "                                 Pipeline(steps=[('CategImputer',\n",
              "                                                  SimpleImputer(fill_value='Missing',\n",
              "                                                                strategy='most_frequent')),\n",
              "                                                 ('OrdinalEncoder',\n",
              "                                                  OrdinalEncoder(handle_unknown='use_encoded_value',\n",
              "                                                                 unknown_value=-1))]),\n",
              "                                 <sklearn.compose._column_transformer.make_column_selector object at 0x000001E61EFB6B20>)])</pre></div></div></div><div class=\"sk-parallel\"><div class=\"sk-parallel-item\"><div class=\"sk-item\"><div class=\"sk-label-container\"><div class=\"sk-label sk-toggleable\"><input class=\"sk-toggleable__control sk-hidden--visually\" id=\"83508af7-79c9-48c7-944e-57619038e72b\" type=\"checkbox\" ><label class=\"sk-toggleable__label\" for=\"83508af7-79c9-48c7-944e-57619038e72b\">numeric</label><div class=\"sk-toggleable__content\"><pre><sklearn.compose._column_transformer.make_column_selector object at 0x000001E61EFB6400></pre></div></div></div><div class=\"sk-serial\"><div class=\"sk-item\"><div class=\"sk-serial\"><div class=\"sk-item\"><div class=\"sk-estimator sk-toggleable\"><input class=\"sk-toggleable__control sk-hidden--visually\" id=\"17520b09-aa0c-49d2-b45b-0c30f38bd87d\" type=\"checkbox\" ><label class=\"sk-toggleable__label\" for=\"17520b09-aa0c-49d2-b45b-0c30f38bd87d\">SimpleImputer</label><div class=\"sk-toggleable__content\"><pre>SimpleImputer(strategy='constant')</pre></div></div></div><div class=\"sk-item\"><div class=\"sk-estimator sk-toggleable\"><input class=\"sk-toggleable__control sk-hidden--visually\" id=\"109a7e99-4ff1-4814-819a-06e274996386\" type=\"checkbox\" ><label class=\"sk-toggleable__label\" for=\"109a7e99-4ff1-4814-819a-06e274996386\">RobustScaler</label><div class=\"sk-toggleable__content\"><pre>RobustScaler(quantile_range=(5.0, 95.0))</pre></div></div></div></div></div></div></div></div><div class=\"sk-parallel-item\"><div class=\"sk-item\"><div class=\"sk-label-container\"><div class=\"sk-label sk-toggleable\"><input class=\"sk-toggleable__control sk-hidden--visually\" id=\"8e7e9761-fd9a-4ed8-b7ff-9fa18ce8c147\" type=\"checkbox\" ><label class=\"sk-toggleable__label\" for=\"8e7e9761-fd9a-4ed8-b7ff-9fa18ce8c147\">categorical</label><div class=\"sk-toggleable__content\"><pre><sklearn.compose._column_transformer.make_column_selector object at 0x000001E61EFB6B20></pre></div></div></div><div class=\"sk-serial\"><div class=\"sk-item\"><div class=\"sk-serial\"><div class=\"sk-item\"><div class=\"sk-estimator sk-toggleable\"><input class=\"sk-toggleable__control sk-hidden--visually\" id=\"22beaf5f-b253-4397-91e7-040d27fd1008\" type=\"checkbox\" ><label class=\"sk-toggleable__label\" for=\"22beaf5f-b253-4397-91e7-040d27fd1008\">SimpleImputer</label><div class=\"sk-toggleable__content\"><pre>SimpleImputer(fill_value='Missing', strategy='most_frequent')</pre></div></div></div><div class=\"sk-item\"><div class=\"sk-estimator sk-toggleable\"><input class=\"sk-toggleable__control sk-hidden--visually\" id=\"bd405d9a-615c-420e-80e7-bca1d583a29c\" type=\"checkbox\" ><label class=\"sk-toggleable__label\" for=\"bd405d9a-615c-420e-80e7-bca1d583a29c\">OrdinalEncoder</label><div class=\"sk-toggleable__content\"><pre>OrdinalEncoder(handle_unknown='use_encoded_value', unknown_value=-1)</pre></div></div></div></div></div></div></div></div><div class=\"sk-parallel-item\"><div class=\"sk-item\"><div class=\"sk-label-container\"><div class=\"sk-label sk-toggleable\"><input class=\"sk-toggleable__control sk-hidden--visually\" id=\"42c034ff-cab5-4c72-8847-6a9323c68cec\" type=\"checkbox\" ><label class=\"sk-toggleable__label\" for=\"42c034ff-cab5-4c72-8847-6a9323c68cec\">remainder</label><div class=\"sk-toggleable__content\"><pre>[['ARV17_MINUS_ARV16', 'AXM4970T', 'AXM4971T', 'AXM5030T', 'AXM5032T', 'AXM5130T', 'AXM5131T', 'AXM5930T', 'AXM5931T', 'AXM5932T', 'AXM5933T', 'AXM8131T', 'BKRPT_RCV_SCORE_VALUE', 'BRC4003T', 'BRC4012T', 'BRC4016T', 'BRC4970T', 'BRC4971T', 'BRC5030T', 'BRC5032T', 'BRC5130T', 'BRC5131T', 'BRC5230T', 'BRC5231T', 'BRC5530T', 'BRC5531T', 'BRC8131T', 'CUNSAGE_V1', 'CUNSBAL_V1', 'CUNSINQ_V1', 'CUS02_V2', 'CUS07_REV120_V1', 'DEM03', 'DEM05', 'DEM06', 'DEM08', 'HOMEEQUITY_HEQ09', 'SCR02', 'SCR16', 'SMARTV40_AAL01', 'SMARTV40_AAL18', 'SMARTV40_AAL19', 'SMARTV40_AAL24', 'SMARTV40_AAL25', 'SMARTV40_AAL27', 'SMARTV40_AAL60', 'SMARTV40_AAL61', 'SMARTV40_AAL63', 'SMARTV40_AAL66', 'SMARTV40_AAU13', 'SMARTV40_AAU19', 'SMARTV40_AAU20', 'SMARTV40_AAU22', 'SMARTV40_ABK01', 'SMARTV40_ABK05', 'SMARTV40_ABK18', 'SMARTV40_ABK19', 'SMARTV40_ABK21', 'SMARTV40_ABK22', 'SMARTV40_ABK23', 'SMARTV40_ABK33', 'SMARTV40_ABK35', 'SMARTV40_AHD11', 'SMARTV40_AHD31', 'SMARTV40_AHI22', 'SMARTV40_AHI46', 'SMARTV40_AHI90', 'SMARTV40_AIN17', 'SMARTV40_AIQ01', 'SMARTV40_AIQ02', 'SMARTV40_AIQ04', 'SMARTV40_AIQ05', 'SMARTV40_AIQ07', 'SMARTV40_ALE21', 'SMARTV40_ALN03', 'SMARTV40_ALN09', 'SMARTV40_ALN12', 'SMARTV40_ALN13', 'SMARTV40_ALN14', 'SMARTV40_AMG13', 'SMARTV40_AMG14', 'SMARTV40_AMG31', 'SMARTV40_AMG41', 'SMARTV40_AMG46', 'SMARTV40_APR01', 'SMARTV40_APR04', 'SMARTV40_APR24', 'SMARTV40_APR30', 'SMARTV40_APR35', 'SMARTV40_APR45', 'SMARTV40_ART02', 'SMARTV40_ART07', 'SMARTV40_ART17', 'SMARTV40_ART18', 'SMARTV40_ART23', 'SMARTV40_ART24', 'SMARTV40_ART33', 'SMARTV40_ARV01', 'SMARTV40_ARV03', 'SMARTV40_ARV05', 'SMARTV40_ARV15', 'SMARTV40_ARV16', 'SMARTV40_ARV17', 'SMARTV40_ARV18', 'SMARTV40_ARV22', 'SMARTV40_ARV23', 'SMARTV40_ARV31', 'SMARTV40_ARV32', 'SMARTV40_ARV34', 'SMARTV40_ASL01', 'SMARTV40_ASL09', 'SMARTV40_ASL14', 'SMARTV40_ASL37', 'SMARTV40_CMG04', 'SMARTV40_CMG05', 'SMARTV40_CRM01', 'SMARTV40_CRN01', 'SMARTV40_CRT01', 'SMARTV40_CRT06', 'SMARTV40_DDT01', 'SMARTV40_DDT02', 'SMARTV40_DDT18', 'STATE_CD', 'XFC06', 'XFC07']]</pre></div></div></div><div class=\"sk-serial\"><div class=\"sk-item\"><div class=\"sk-estimator sk-toggleable\"><input class=\"sk-toggleable__control sk-hidden--visually\" id=\"e9eb5db7-caff-4712-9f37-4fbc840ef9af\" type=\"checkbox\" ><label class=\"sk-toggleable__label\" for=\"e9eb5db7-caff-4712-9f37-4fbc840ef9af\">passthrough</label><div class=\"sk-toggleable__content\"><pre>passthrough</pre></div></div></div></div></div></div></div></div><div class=\"sk-item\"><div class=\"sk-estimator sk-toggleable\"><input class=\"sk-toggleable__control sk-hidden--visually\" id=\"ad694d4b-5f0a-433a-81ca-c04acf7df478\" type=\"checkbox\" ><label class=\"sk-toggleable__label\" for=\"ad694d4b-5f0a-433a-81ca-c04acf7df478\">XGBClassifier</label><div class=\"sk-toggleable__content\"><pre>XGBClassifier(base_score=None, booster=None, colsample_bylevel=None,\n",
              "              colsample_bynode=None, colsample_bytree=None, gamma=None,\n",
              "              gpu_id=None, importance_type='gain', interaction_constraints=None,\n",
              "              learning_rate=None, max_delta_step=None, max_depth=None,\n",
              "              min_child_weight=None, missing=nan, monotone_constraints=None,\n",
              "              n_estimators=100, n_jobs=None, num_parallel_tree=None,\n",
              "              random_state=None, reg_alpha=None, reg_lambda=None,\n",
              "              scale_pos_weight=None, subsample=None, tree_method=None,\n",
              "              validate_parameters=None, verbosity=None)</pre></div></div></div></div></div></div></div></div></div></div></div></div>"
            ],
            "text/plain": [
              "HalvingRandomSearchCV(aggressive_elimination=True, error_score='raise',\n",
              "                      estimator=Pipeline(steps=[('preprocessor',\n",
              "                                                 ColumnTransformer(n_jobs=-1,\n",
              "                                                                   remainder='passthrough',\n",
              "                                                                   transformers=[('numeric',\n",
              "                                                                                  Pipeline(steps=[('NumericImputer',\n",
              "                                                                                                   SimpleImputer(strategy='constant')),\n",
              "                                                                                                  ('RobustScaler',\n",
              "                                                                                                   RobustScaler(quantile_range=(5.0,\n",
              "                                                                                                                                95.0)))]),\n",
              "                                                                                  <sklearn.compose._column_transfo...\n",
              "                                           'preprocessor__categorical__CategImputer__strategy': ['most_frequent',\n",
              "                                                                                                 'constant'],\n",
              "                                           'preprocessor__numeric__NumericImputer__fill_value': [-9999,\n",
              "                                                                                                 -1,\n",
              "                                                                                                 0,\n",
              "                                                                                                 9999],\n",
              "                                           'preprocessor__numeric__RobustScaler__quantile_range': [(25.0,\n",
              "                                                                                                    75.0),\n",
              "                                                                                                   (10.0,\n",
              "                                                                                                    90.0),\n",
              "                                                                                                   (5.0,\n",
              "                                                                                                    95.0),\n",
              "                                                                                                   (1.0,\n",
              "                                                                                                    99.0),\n",
              "                                                                                                   (0.1,\n",
              "                                                                                                    99.9)]},\n",
              "                      random_state=42,\n",
              "                      refit=<function _refit_callable at 0x000001E624785EE0>,\n",
              "                      scoring='roc_auc')"
            ]
          },
          "metadata": {
            "tags": []
          }
        },
        {
          "output_type": "stream",
          "text": [
            "\n",
            "ROC AUC Train 0.824\n",
            "ROC AUC Test 0.767\n",
            "-------------------------\n",
            "\n",
            "Classification Report Train\n",
            "              precision    recall  f1-score   support\n",
            "\n",
            "           0       0.86      0.99      0.92     17137\n",
            "           1       0.73      0.18      0.29      3413\n",
            "\n",
            "    accuracy                           0.85     20550\n",
            "   macro avg       0.79      0.58      0.60     20550\n",
            "weighted avg       0.84      0.85      0.81     20550\n",
            "\n",
            "-------------------------\n",
            "\n",
            "Classification Report Test\n",
            "              precision    recall  f1-score   support\n",
            "\n",
            "           0       0.85      0.98      0.91      5713\n",
            "           1       0.59      0.13      0.21      1137\n",
            "\n",
            "    accuracy                           0.84      6850\n",
            "   macro avg       0.72      0.55      0.56      6850\n",
            "weighted avg       0.81      0.84      0.79      6850\n",
            "\n",
            "-------------------------\n"
          ],
          "name": "stdout"
        }
      ]
    },
    {
      "cell_type": "code",
      "metadata": {
        "colab": {
          "base_uri": "https://localhost:8080/"
        },
        "hidden": true,
        "id": "1qDEmdPvQRGU",
        "scrolled": true,
        "outputId": "7f42644e-245b-4e9e-855f-be04a009d91c"
      },
      "source": [
        "%%time\n",
        "# Trimming dataset\n",
        "clf = pxgb_hrs.best_estimator_.named_steps['classifier']\n",
        "prep = pxgb_hrs.best_estimator_.named_steps['preprocessor']\n",
        "\n",
        "selector = RFECV(clf, step=1, cv=5, min_features_to_select=10, n_jobs=-1, verbose=0)\n",
        "selector_results = selector.fit(prep.transform(X_train), y_train)\n",
        "best_features = [f.split('__')[1] for f in np.array(get_feature_names(prep))[selector_results.support_]]\n",
        "Xt_train = X_train[best_features]\n",
        "Xt_test = X_test[best_features]"
      ],
      "execution_count": null,
      "outputs": [
        {
          "output_type": "stream",
          "text": [
            "[23:06:04] WARNING: C:/Users/Administrator/workspace/xgboost-win64_release_1.4.0/src/learner.cc:1095: Starting in XGBoost 1.3.0, the default evaluation metric used with the objective 'binary:logistic' was changed from 'error' to 'logloss'. Explicitly set eval_metric if you'd like to restore the old behavior.\n",
            "[23:06:06] WARNING: C:/Users/Administrator/workspace/xgboost-win64_release_1.4.0/src/learner.cc:1095: Starting in XGBoost 1.3.0, the default evaluation metric used with the objective 'binary:logistic' was changed from 'error' to 'logloss'. Explicitly set eval_metric if you'd like to restore the old behavior.\n",
            "[23:06:07] WARNING: C:/Users/Administrator/workspace/xgboost-win64_release_1.4.0/src/learner.cc:1095: Starting in XGBoost 1.3.0, the default evaluation metric used with the objective 'binary:logistic' was changed from 'error' to 'logloss'. Explicitly set eval_metric if you'd like to restore the old behavior.\n",
            "[23:06:08] WARNING: C:/Users/Administrator/workspace/xgboost-win64_release_1.4.0/src/learner.cc:1095: Starting in XGBoost 1.3.0, the default evaluation metric used with the objective 'binary:logistic' was changed from 'error' to 'logloss'. Explicitly set eval_metric if you'd like to restore the old behavior.\n",
            "[23:06:09] WARNING: C:/Users/Administrator/workspace/xgboost-win64_release_1.4.0/src/learner.cc:1095: Starting in XGBoost 1.3.0, the default evaluation metric used with the objective 'binary:logistic' was changed from 'error' to 'logloss'. Explicitly set eval_metric if you'd like to restore the old behavior.\n",
            "[23:06:11] WARNING: C:/Users/Administrator/workspace/xgboost-win64_release_1.4.0/src/learner.cc:1095: Starting in XGBoost 1.3.0, the default evaluation metric used with the objective 'binary:logistic' was changed from 'error' to 'logloss'. Explicitly set eval_metric if you'd like to restore the old behavior.\n",
            "[23:06:12] WARNING: C:/Users/Administrator/workspace/xgboost-win64_release_1.4.0/src/learner.cc:1095: Starting in XGBoost 1.3.0, the default evaluation metric used with the objective 'binary:logistic' was changed from 'error' to 'logloss'. Explicitly set eval_metric if you'd like to restore the old behavior.\n",
            "[23:06:13] WARNING: C:/Users/Administrator/workspace/xgboost-win64_release_1.4.0/src/learner.cc:1095: Starting in XGBoost 1.3.0, the default evaluation metric used with the objective 'binary:logistic' was changed from 'error' to 'logloss'. Explicitly set eval_metric if you'd like to restore the old behavior.\n",
            "[23:06:14] WARNING: C:/Users/Administrator/workspace/xgboost-win64_release_1.4.0/src/learner.cc:1095: Starting in XGBoost 1.3.0, the default evaluation metric used with the objective 'binary:logistic' was changed from 'error' to 'logloss'. Explicitly set eval_metric if you'd like to restore the old behavior.\n",
            "[23:06:16] WARNING: C:/Users/Administrator/workspace/xgboost-win64_release_1.4.0/src/learner.cc:1095: Starting in XGBoost 1.3.0, the default evaluation metric used with the objective 'binary:logistic' was changed from 'error' to 'logloss'. Explicitly set eval_metric if you'd like to restore the old behavior.\n",
            "[23:06:17] WARNING: C:/Users/Administrator/workspace/xgboost-win64_release_1.4.0/src/learner.cc:1095: Starting in XGBoost 1.3.0, the default evaluation metric used with the objective 'binary:logistic' was changed from 'error' to 'logloss'. Explicitly set eval_metric if you'd like to restore the old behavior.\n",
            "[23:06:18] WARNING: C:/Users/Administrator/workspace/xgboost-win64_release_1.4.0/src/learner.cc:1095: Starting in XGBoost 1.3.0, the default evaluation metric used with the objective 'binary:logistic' was changed from 'error' to 'logloss'. Explicitly set eval_metric if you'd like to restore the old behavior.\n",
            "[23:06:19] WARNING: C:/Users/Administrator/workspace/xgboost-win64_release_1.4.0/src/learner.cc:1095: Starting in XGBoost 1.3.0, the default evaluation metric used with the objective 'binary:logistic' was changed from 'error' to 'logloss'. Explicitly set eval_metric if you'd like to restore the old behavior.\n",
            "[23:06:21] WARNING: C:/Users/Administrator/workspace/xgboost-win64_release_1.4.0/src/learner.cc:1095: Starting in XGBoost 1.3.0, the default evaluation metric used with the objective 'binary:logistic' was changed from 'error' to 'logloss'. Explicitly set eval_metric if you'd like to restore the old behavior.\n",
            "[23:06:22] WARNING: C:/Users/Administrator/workspace/xgboost-win64_release_1.4.0/src/learner.cc:1095: Starting in XGBoost 1.3.0, the default evaluation metric used with the objective 'binary:logistic' was changed from 'error' to 'logloss'. Explicitly set eval_metric if you'd like to restore the old behavior.\n",
            "[23:06:23] WARNING: C:/Users/Administrator/workspace/xgboost-win64_release_1.4.0/src/learner.cc:1095: Starting in XGBoost 1.3.0, the default evaluation metric used with the objective 'binary:logistic' was changed from 'error' to 'logloss'. Explicitly set eval_metric if you'd like to restore the old behavior.\n",
            "[23:06:24] WARNING: C:/Users/Administrator/workspace/xgboost-win64_release_1.4.0/src/learner.cc:1095: Starting in XGBoost 1.3.0, the default evaluation metric used with the objective 'binary:logistic' was changed from 'error' to 'logloss'. Explicitly set eval_metric if you'd like to restore the old behavior.\n",
            "[23:06:25] WARNING: C:/Users/Administrator/workspace/xgboost-win64_release_1.4.0/src/learner.cc:1095: Starting in XGBoost 1.3.0, the default evaluation metric used with the objective 'binary:logistic' was changed from 'error' to 'logloss'. Explicitly set eval_metric if you'd like to restore the old behavior.\n",
            "[23:06:27] WARNING: C:/Users/Administrator/workspace/xgboost-win64_release_1.4.0/src/learner.cc:1095: Starting in XGBoost 1.3.0, the default evaluation metric used with the objective 'binary:logistic' was changed from 'error' to 'logloss'. Explicitly set eval_metric if you'd like to restore the old behavior.\n",
            "[23:06:28] WARNING: C:/Users/Administrator/workspace/xgboost-win64_release_1.4.0/src/learner.cc:1095: Starting in XGBoost 1.3.0, the default evaluation metric used with the objective 'binary:logistic' was changed from 'error' to 'logloss'. Explicitly set eval_metric if you'd like to restore the old behavior.\n",
            "[23:06:29] WARNING: C:/Users/Administrator/workspace/xgboost-win64_release_1.4.0/src/learner.cc:1095: Starting in XGBoost 1.3.0, the default evaluation metric used with the objective 'binary:logistic' was changed from 'error' to 'logloss'. Explicitly set eval_metric if you'd like to restore the old behavior.\n",
            "[23:06:30] WARNING: C:/Users/Administrator/workspace/xgboost-win64_release_1.4.0/src/learner.cc:1095: Starting in XGBoost 1.3.0, the default evaluation metric used with the objective 'binary:logistic' was changed from 'error' to 'logloss'. Explicitly set eval_metric if you'd like to restore the old behavior.\n",
            "[23:06:31] WARNING: C:/Users/Administrator/workspace/xgboost-win64_release_1.4.0/src/learner.cc:1095: Starting in XGBoost 1.3.0, the default evaluation metric used with the objective 'binary:logistic' was changed from 'error' to 'logloss'. Explicitly set eval_metric if you'd like to restore the old behavior.\n",
            "[23:06:33] WARNING: C:/Users/Administrator/workspace/xgboost-win64_release_1.4.0/src/learner.cc:1095: Starting in XGBoost 1.3.0, the default evaluation metric used with the objective 'binary:logistic' was changed from 'error' to 'logloss'. Explicitly set eval_metric if you'd like to restore the old behavior.\n",
            "[23:06:34] WARNING: C:/Users/Administrator/workspace/xgboost-win64_release_1.4.0/src/learner.cc:1095: Starting in XGBoost 1.3.0, the default evaluation metric used with the objective 'binary:logistic' was changed from 'error' to 'logloss'. Explicitly set eval_metric if you'd like to restore the old behavior.\n",
            "[23:06:35] WARNING: C:/Users/Administrator/workspace/xgboost-win64_release_1.4.0/src/learner.cc:1095: Starting in XGBoost 1.3.0, the default evaluation metric used with the objective 'binary:logistic' was changed from 'error' to 'logloss'. Explicitly set eval_metric if you'd like to restore the old behavior.\n",
            "[23:06:36] WARNING: C:/Users/Administrator/workspace/xgboost-win64_release_1.4.0/src/learner.cc:1095: Starting in XGBoost 1.3.0, the default evaluation metric used with the objective 'binary:logistic' was changed from 'error' to 'logloss'. Explicitly set eval_metric if you'd like to restore the old behavior.\n"
          ],
          "name": "stdout"
        },
        {
          "output_type": "stream",
          "text": [
            "[23:06:37] WARNING: C:/Users/Administrator/workspace/xgboost-win64_release_1.4.0/src/learner.cc:1095: Starting in XGBoost 1.3.0, the default evaluation metric used with the objective 'binary:logistic' was changed from 'error' to 'logloss'. Explicitly set eval_metric if you'd like to restore the old behavior.\n",
            "[23:06:38] WARNING: C:/Users/Administrator/workspace/xgboost-win64_release_1.4.0/src/learner.cc:1095: Starting in XGBoost 1.3.0, the default evaluation metric used with the objective 'binary:logistic' was changed from 'error' to 'logloss'. Explicitly set eval_metric if you'd like to restore the old behavior.\n",
            "[23:06:40] WARNING: C:/Users/Administrator/workspace/xgboost-win64_release_1.4.0/src/learner.cc:1095: Starting in XGBoost 1.3.0, the default evaluation metric used with the objective 'binary:logistic' was changed from 'error' to 'logloss'. Explicitly set eval_metric if you'd like to restore the old behavior.\n",
            "[23:06:41] WARNING: C:/Users/Administrator/workspace/xgboost-win64_release_1.4.0/src/learner.cc:1095: Starting in XGBoost 1.3.0, the default evaluation metric used with the objective 'binary:logistic' was changed from 'error' to 'logloss'. Explicitly set eval_metric if you'd like to restore the old behavior.\n",
            "[23:06:42] WARNING: C:/Users/Administrator/workspace/xgboost-win64_release_1.4.0/src/learner.cc:1095: Starting in XGBoost 1.3.0, the default evaluation metric used with the objective 'binary:logistic' was changed from 'error' to 'logloss'. Explicitly set eval_metric if you'd like to restore the old behavior.\n",
            "[23:06:43] WARNING: C:/Users/Administrator/workspace/xgboost-win64_release_1.4.0/src/learner.cc:1095: Starting in XGBoost 1.3.0, the default evaluation metric used with the objective 'binary:logistic' was changed from 'error' to 'logloss'. Explicitly set eval_metric if you'd like to restore the old behavior.\n",
            "[23:06:44] WARNING: C:/Users/Administrator/workspace/xgboost-win64_release_1.4.0/src/learner.cc:1095: Starting in XGBoost 1.3.0, the default evaluation metric used with the objective 'binary:logistic' was changed from 'error' to 'logloss'. Explicitly set eval_metric if you'd like to restore the old behavior.\n",
            "[23:06:45] WARNING: C:/Users/Administrator/workspace/xgboost-win64_release_1.4.0/src/learner.cc:1095: Starting in XGBoost 1.3.0, the default evaluation metric used with the objective 'binary:logistic' was changed from 'error' to 'logloss'. Explicitly set eval_metric if you'd like to restore the old behavior.\n",
            "[23:06:47] WARNING: C:/Users/Administrator/workspace/xgboost-win64_release_1.4.0/src/learner.cc:1095: Starting in XGBoost 1.3.0, the default evaluation metric used with the objective 'binary:logistic' was changed from 'error' to 'logloss'. Explicitly set eval_metric if you'd like to restore the old behavior.\n",
            "[23:06:48] WARNING: C:/Users/Administrator/workspace/xgboost-win64_release_1.4.0/src/learner.cc:1095: Starting in XGBoost 1.3.0, the default evaluation metric used with the objective 'binary:logistic' was changed from 'error' to 'logloss'. Explicitly set eval_metric if you'd like to restore the old behavior.\n",
            "[23:06:49] WARNING: C:/Users/Administrator/workspace/xgboost-win64_release_1.4.0/src/learner.cc:1095: Starting in XGBoost 1.3.0, the default evaluation metric used with the objective 'binary:logistic' was changed from 'error' to 'logloss'. Explicitly set eval_metric if you'd like to restore the old behavior.\n",
            "[23:06:50] WARNING: C:/Users/Administrator/workspace/xgboost-win64_release_1.4.0/src/learner.cc:1095: Starting in XGBoost 1.3.0, the default evaluation metric used with the objective 'binary:logistic' was changed from 'error' to 'logloss'. Explicitly set eval_metric if you'd like to restore the old behavior.\n",
            "[23:06:51] WARNING: C:/Users/Administrator/workspace/xgboost-win64_release_1.4.0/src/learner.cc:1095: Starting in XGBoost 1.3.0, the default evaluation metric used with the objective 'binary:logistic' was changed from 'error' to 'logloss'. Explicitly set eval_metric if you'd like to restore the old behavior.\n",
            "[23:06:52] WARNING: C:/Users/Administrator/workspace/xgboost-win64_release_1.4.0/src/learner.cc:1095: Starting in XGBoost 1.3.0, the default evaluation metric used with the objective 'binary:logistic' was changed from 'error' to 'logloss'. Explicitly set eval_metric if you'd like to restore the old behavior.\n",
            "[23:06:53] WARNING: C:/Users/Administrator/workspace/xgboost-win64_release_1.4.0/src/learner.cc:1095: Starting in XGBoost 1.3.0, the default evaluation metric used with the objective 'binary:logistic' was changed from 'error' to 'logloss'. Explicitly set eval_metric if you'd like to restore the old behavior.\n",
            "[23:06:54] WARNING: C:/Users/Administrator/workspace/xgboost-win64_release_1.4.0/src/learner.cc:1095: Starting in XGBoost 1.3.0, the default evaluation metric used with the objective 'binary:logistic' was changed from 'error' to 'logloss'. Explicitly set eval_metric if you'd like to restore the old behavior.\n",
            "[23:06:55] WARNING: C:/Users/Administrator/workspace/xgboost-win64_release_1.4.0/src/learner.cc:1095: Starting in XGBoost 1.3.0, the default evaluation metric used with the objective 'binary:logistic' was changed from 'error' to 'logloss'. Explicitly set eval_metric if you'd like to restore the old behavior.\n",
            "[23:06:56] WARNING: C:/Users/Administrator/workspace/xgboost-win64_release_1.4.0/src/learner.cc:1095: Starting in XGBoost 1.3.0, the default evaluation metric used with the objective 'binary:logistic' was changed from 'error' to 'logloss'. Explicitly set eval_metric if you'd like to restore the old behavior.\n",
            "[23:06:57] WARNING: C:/Users/Administrator/workspace/xgboost-win64_release_1.4.0/src/learner.cc:1095: Starting in XGBoost 1.3.0, the default evaluation metric used with the objective 'binary:logistic' was changed from 'error' to 'logloss'. Explicitly set eval_metric if you'd like to restore the old behavior.\n",
            "[23:06:58] WARNING: C:/Users/Administrator/workspace/xgboost-win64_release_1.4.0/src/learner.cc:1095: Starting in XGBoost 1.3.0, the default evaluation metric used with the objective 'binary:logistic' was changed from 'error' to 'logloss'. Explicitly set eval_metric if you'd like to restore the old behavior.\n",
            "[23:06:59] WARNING: C:/Users/Administrator/workspace/xgboost-win64_release_1.4.0/src/learner.cc:1095: Starting in XGBoost 1.3.0, the default evaluation metric used with the objective 'binary:logistic' was changed from 'error' to 'logloss'. Explicitly set eval_metric if you'd like to restore the old behavior.\n",
            "[23:07:00] WARNING: C:/Users/Administrator/workspace/xgboost-win64_release_1.4.0/src/learner.cc:1095: Starting in XGBoost 1.3.0, the default evaluation metric used with the objective 'binary:logistic' was changed from 'error' to 'logloss'. Explicitly set eval_metric if you'd like to restore the old behavior.\n",
            "[23:07:01] WARNING: C:/Users/Administrator/workspace/xgboost-win64_release_1.4.0/src/learner.cc:1095: Starting in XGBoost 1.3.0, the default evaluation metric used with the objective 'binary:logistic' was changed from 'error' to 'logloss'. Explicitly set eval_metric if you'd like to restore the old behavior.\n",
            "[23:07:02] WARNING: C:/Users/Administrator/workspace/xgboost-win64_release_1.4.0/src/learner.cc:1095: Starting in XGBoost 1.3.0, the default evaluation metric used with the objective 'binary:logistic' was changed from 'error' to 'logloss'. Explicitly set eval_metric if you'd like to restore the old behavior.\n",
            "[23:07:03] WARNING: C:/Users/Administrator/workspace/xgboost-win64_release_1.4.0/src/learner.cc:1095: Starting in XGBoost 1.3.0, the default evaluation metric used with the objective 'binary:logistic' was changed from 'error' to 'logloss'. Explicitly set eval_metric if you'd like to restore the old behavior.\n",
            "[23:07:04] WARNING: C:/Users/Administrator/workspace/xgboost-win64_release_1.4.0/src/learner.cc:1095: Starting in XGBoost 1.3.0, the default evaluation metric used with the objective 'binary:logistic' was changed from 'error' to 'logloss'. Explicitly set eval_metric if you'd like to restore the old behavior.\n",
            "[23:07:05] WARNING: C:/Users/Administrator/workspace/xgboost-win64_release_1.4.0/src/learner.cc:1095: Starting in XGBoost 1.3.0, the default evaluation metric used with the objective 'binary:logistic' was changed from 'error' to 'logloss'. Explicitly set eval_metric if you'd like to restore the old behavior.\n"
          ],
          "name": "stdout"
        },
        {
          "output_type": "stream",
          "text": [
            "[23:07:06] WARNING: C:/Users/Administrator/workspace/xgboost-win64_release_1.4.0/src/learner.cc:1095: Starting in XGBoost 1.3.0, the default evaluation metric used with the objective 'binary:logistic' was changed from 'error' to 'logloss'. Explicitly set eval_metric if you'd like to restore the old behavior.\n",
            "[23:07:07] WARNING: C:/Users/Administrator/workspace/xgboost-win64_release_1.4.0/src/learner.cc:1095: Starting in XGBoost 1.3.0, the default evaluation metric used with the objective 'binary:logistic' was changed from 'error' to 'logloss'. Explicitly set eval_metric if you'd like to restore the old behavior.\n",
            "[23:07:08] WARNING: C:/Users/Administrator/workspace/xgboost-win64_release_1.4.0/src/learner.cc:1095: Starting in XGBoost 1.3.0, the default evaluation metric used with the objective 'binary:logistic' was changed from 'error' to 'logloss'. Explicitly set eval_metric if you'd like to restore the old behavior.\n",
            "[23:07:09] WARNING: C:/Users/Administrator/workspace/xgboost-win64_release_1.4.0/src/learner.cc:1095: Starting in XGBoost 1.3.0, the default evaluation metric used with the objective 'binary:logistic' was changed from 'error' to 'logloss'. Explicitly set eval_metric if you'd like to restore the old behavior.\n",
            "[23:07:10] WARNING: C:/Users/Administrator/workspace/xgboost-win64_release_1.4.0/src/learner.cc:1095: Starting in XGBoost 1.3.0, the default evaluation metric used with the objective 'binary:logistic' was changed from 'error' to 'logloss'. Explicitly set eval_metric if you'd like to restore the old behavior.\n",
            "[23:07:11] WARNING: C:/Users/Administrator/workspace/xgboost-win64_release_1.4.0/src/learner.cc:1095: Starting in XGBoost 1.3.0, the default evaluation metric used with the objective 'binary:logistic' was changed from 'error' to 'logloss'. Explicitly set eval_metric if you'd like to restore the old behavior.\n",
            "[23:07:12] WARNING: C:/Users/Administrator/workspace/xgboost-win64_release_1.4.0/src/learner.cc:1095: Starting in XGBoost 1.3.0, the default evaluation metric used with the objective 'binary:logistic' was changed from 'error' to 'logloss'. Explicitly set eval_metric if you'd like to restore the old behavior.\n",
            "[23:07:13] WARNING: C:/Users/Administrator/workspace/xgboost-win64_release_1.4.0/src/learner.cc:1095: Starting in XGBoost 1.3.0, the default evaluation metric used with the objective 'binary:logistic' was changed from 'error' to 'logloss'. Explicitly set eval_metric if you'd like to restore the old behavior.\n",
            "[23:07:14] WARNING: C:/Users/Administrator/workspace/xgboost-win64_release_1.4.0/src/learner.cc:1095: Starting in XGBoost 1.3.0, the default evaluation metric used with the objective 'binary:logistic' was changed from 'error' to 'logloss'. Explicitly set eval_metric if you'd like to restore the old behavior.\n",
            "[23:07:15] WARNING: C:/Users/Administrator/workspace/xgboost-win64_release_1.4.0/src/learner.cc:1095: Starting in XGBoost 1.3.0, the default evaluation metric used with the objective 'binary:logistic' was changed from 'error' to 'logloss'. Explicitly set eval_metric if you'd like to restore the old behavior.\n",
            "[23:07:16] WARNING: C:/Users/Administrator/workspace/xgboost-win64_release_1.4.0/src/learner.cc:1095: Starting in XGBoost 1.3.0, the default evaluation metric used with the objective 'binary:logistic' was changed from 'error' to 'logloss'. Explicitly set eval_metric if you'd like to restore the old behavior.\n",
            "[23:07:17] WARNING: C:/Users/Administrator/workspace/xgboost-win64_release_1.4.0/src/learner.cc:1095: Starting in XGBoost 1.3.0, the default evaluation metric used with the objective 'binary:logistic' was changed from 'error' to 'logloss'. Explicitly set eval_metric if you'd like to restore the old behavior.\n",
            "[23:07:18] WARNING: C:/Users/Administrator/workspace/xgboost-win64_release_1.4.0/src/learner.cc:1095: Starting in XGBoost 1.3.0, the default evaluation metric used with the objective 'binary:logistic' was changed from 'error' to 'logloss'. Explicitly set eval_metric if you'd like to restore the old behavior.\n",
            "[23:07:19] WARNING: C:/Users/Administrator/workspace/xgboost-win64_release_1.4.0/src/learner.cc:1095: Starting in XGBoost 1.3.0, the default evaluation metric used with the objective 'binary:logistic' was changed from 'error' to 'logloss'. Explicitly set eval_metric if you'd like to restore the old behavior.\n",
            "[23:07:20] WARNING: C:/Users/Administrator/workspace/xgboost-win64_release_1.4.0/src/learner.cc:1095: Starting in XGBoost 1.3.0, the default evaluation metric used with the objective 'binary:logistic' was changed from 'error' to 'logloss'. Explicitly set eval_metric if you'd like to restore the old behavior.\n",
            "[23:07:21] WARNING: C:/Users/Administrator/workspace/xgboost-win64_release_1.4.0/src/learner.cc:1095: Starting in XGBoost 1.3.0, the default evaluation metric used with the objective 'binary:logistic' was changed from 'error' to 'logloss'. Explicitly set eval_metric if you'd like to restore the old behavior.\n",
            "[23:07:22] WARNING: C:/Users/Administrator/workspace/xgboost-win64_release_1.4.0/src/learner.cc:1095: Starting in XGBoost 1.3.0, the default evaluation metric used with the objective 'binary:logistic' was changed from 'error' to 'logloss'. Explicitly set eval_metric if you'd like to restore the old behavior.\n",
            "[23:07:22] WARNING: C:/Users/Administrator/workspace/xgboost-win64_release_1.4.0/src/learner.cc:1095: Starting in XGBoost 1.3.0, the default evaluation metric used with the objective 'binary:logistic' was changed from 'error' to 'logloss'. Explicitly set eval_metric if you'd like to restore the old behavior.\n",
            "[23:07:23] WARNING: C:/Users/Administrator/workspace/xgboost-win64_release_1.4.0/src/learner.cc:1095: Starting in XGBoost 1.3.0, the default evaluation metric used with the objective 'binary:logistic' was changed from 'error' to 'logloss'. Explicitly set eval_metric if you'd like to restore the old behavior.\n",
            "[23:07:24] WARNING: C:/Users/Administrator/workspace/xgboost-win64_release_1.4.0/src/learner.cc:1095: Starting in XGBoost 1.3.0, the default evaluation metric used with the objective 'binary:logistic' was changed from 'error' to 'logloss'. Explicitly set eval_metric if you'd like to restore the old behavior.\n",
            "[23:07:25] WARNING: C:/Users/Administrator/workspace/xgboost-win64_release_1.4.0/src/learner.cc:1095: Starting in XGBoost 1.3.0, the default evaluation metric used with the objective 'binary:logistic' was changed from 'error' to 'logloss'. Explicitly set eval_metric if you'd like to restore the old behavior.\n",
            "[23:07:26] WARNING: C:/Users/Administrator/workspace/xgboost-win64_release_1.4.0/src/learner.cc:1095: Starting in XGBoost 1.3.0, the default evaluation metric used with the objective 'binary:logistic' was changed from 'error' to 'logloss'. Explicitly set eval_metric if you'd like to restore the old behavior.\n",
            "[23:07:27] WARNING: C:/Users/Administrator/workspace/xgboost-win64_release_1.4.0/src/learner.cc:1095: Starting in XGBoost 1.3.0, the default evaluation metric used with the objective 'binary:logistic' was changed from 'error' to 'logloss'. Explicitly set eval_metric if you'd like to restore the old behavior.\n",
            "[23:07:28] WARNING: C:/Users/Administrator/workspace/xgboost-win64_release_1.4.0/src/learner.cc:1095: Starting in XGBoost 1.3.0, the default evaluation metric used with the objective 'binary:logistic' was changed from 'error' to 'logloss'. Explicitly set eval_metric if you'd like to restore the old behavior.\n",
            "[23:07:28] WARNING: C:/Users/Administrator/workspace/xgboost-win64_release_1.4.0/src/learner.cc:1095: Starting in XGBoost 1.3.0, the default evaluation metric used with the objective 'binary:logistic' was changed from 'error' to 'logloss'. Explicitly set eval_metric if you'd like to restore the old behavior.\n",
            "[23:07:29] WARNING: C:/Users/Administrator/workspace/xgboost-win64_release_1.4.0/src/learner.cc:1095: Starting in XGBoost 1.3.0, the default evaluation metric used with the objective 'binary:logistic' was changed from 'error' to 'logloss'. Explicitly set eval_metric if you'd like to restore the old behavior.\n",
            "[23:07:30] WARNING: C:/Users/Administrator/workspace/xgboost-win64_release_1.4.0/src/learner.cc:1095: Starting in XGBoost 1.3.0, the default evaluation metric used with the objective 'binary:logistic' was changed from 'error' to 'logloss'. Explicitly set eval_metric if you'd like to restore the old behavior.\n"
          ],
          "name": "stdout"
        },
        {
          "output_type": "stream",
          "text": [
            "[23:07:31] WARNING: C:/Users/Administrator/workspace/xgboost-win64_release_1.4.0/src/learner.cc:1095: Starting in XGBoost 1.3.0, the default evaluation metric used with the objective 'binary:logistic' was changed from 'error' to 'logloss'. Explicitly set eval_metric if you'd like to restore the old behavior.\n",
            "[23:07:32] WARNING: C:/Users/Administrator/workspace/xgboost-win64_release_1.4.0/src/learner.cc:1095: Starting in XGBoost 1.3.0, the default evaluation metric used with the objective 'binary:logistic' was changed from 'error' to 'logloss'. Explicitly set eval_metric if you'd like to restore the old behavior.\n",
            "[23:07:33] WARNING: C:/Users/Administrator/workspace/xgboost-win64_release_1.4.0/src/learner.cc:1095: Starting in XGBoost 1.3.0, the default evaluation metric used with the objective 'binary:logistic' was changed from 'error' to 'logloss'. Explicitly set eval_metric if you'd like to restore the old behavior.\n",
            "[23:07:34] WARNING: C:/Users/Administrator/workspace/xgboost-win64_release_1.4.0/src/learner.cc:1095: Starting in XGBoost 1.3.0, the default evaluation metric used with the objective 'binary:logistic' was changed from 'error' to 'logloss'. Explicitly set eval_metric if you'd like to restore the old behavior.\n",
            "[23:07:35] WARNING: C:/Users/Administrator/workspace/xgboost-win64_release_1.4.0/src/learner.cc:1095: Starting in XGBoost 1.3.0, the default evaluation metric used with the objective 'binary:logistic' was changed from 'error' to 'logloss'. Explicitly set eval_metric if you'd like to restore the old behavior.\n",
            "Wall time: 9min 18s\n"
          ],
          "name": "stdout"
        },
        {
          "output_type": "stream",
          "text": [
            "Transformer NumericImputer (type SimpleImputer) does not provide get_feature_names. Will return input column names if available\n",
            "Transformer RobustScaler (type RobustScaler) does not provide get_feature_names. Will return input column names if available\n",
            "Transformer CategImputer (type SimpleImputer) does not provide get_feature_names. Will return input column names if available\n",
            "Transformer OrdinalEncoder (type OrdinalEncoder) does not provide get_feature_names. Will return input column names if available\n"
          ],
          "name": "stderr"
        }
      ]
    },
    {
      "cell_type": "code",
      "metadata": {
        "hidden": true,
        "id": "TyuIYDOYYLRq",
        "outputId": "174b26d3-1014-4dbb-ae64-5c2c3798b917"
      },
      "source": [
        "%%time\n",
        "\n",
        "clf = pxgb_hrs.best_estimator_.named_steps['classifier']\n",
        "prep = pxgb_hrs.best_estimator_.named_steps['preprocessor']\n",
        "\n",
        "xgb_fit_params = {'eval_metric':'auc', \n",
        "                   'eval_set': [(prep.fit(Xt_train).transform(Xt_test), y_test)], \n",
        "                   'early_stopping_rounds': 10, 'verbose': False}\n",
        "pxgb_fit_params = {'classifier__' + str(key): val for key, val in xgb_fit_params.items()}\n",
        "\n",
        "pxgb_hrs.fit(Xt_train, y_train, **pxgb_fit_params)\n",
        "print('Best Params:', pxgb_hrs.best_params_)\n",
        "print('AUC Score:', round((pxgb_hrs.best_score_), 4))\n",
        "model_performance(Xt_train, Xt_test, y_train, y_test, pxgb_hrs)\n",
        "winsound.Beep(frequency=2500, duration=1500)"
      ],
      "execution_count": null,
      "outputs": [
        {
          "output_type": "stream",
          "text": [
            "Best Params: {'preprocessor__numeric__RobustScaler__quantile_range': (5.0, 95.0), 'preprocessor__numeric__NumericImputer__fill_value': 9999, 'preprocessor__categorical__CategImputer__strategy': 'constant', 'classifier__use_label_encoder': False, 'classifier__tree_method': 'gpu_hist', 'classifier__subsample': 0.7000000000000001, 'classifier__reg_lambda': 1, 'classifier__random_state': 42, 'classifier__n_jobs': -1, 'classifier__n_estimators': 250, 'classifier__min_child_weight': 1, 'classifier__max_depth': 3, 'classifier__learning_rate': 0.1, 'classifier__gpu_id': 0, 'classifier__gamma': 1.0, 'classifier__colsample_bytree': 0.5, 'classifier__colsample_bylevel': 1.0}\n",
            "AUC Score: 0.7771\n",
            "\n",
            "ROC AUC Train 0.818\n",
            "ROC AUC Test 0.769\n",
            "-------------------------\n",
            "\n",
            "Classification Report Train\n",
            "              precision    recall  f1-score   support\n",
            "\n",
            "           0       0.86      0.99      0.92     17137\n",
            "           1       0.71      0.19      0.29      3413\n",
            "\n",
            "    accuracy                           0.85     20550\n",
            "   macro avg       0.78      0.59      0.61     20550\n",
            "weighted avg       0.83      0.85      0.81     20550\n",
            "\n",
            "-------------------------\n",
            "\n",
            "Classification Report Test\n",
            "              precision    recall  f1-score   support\n",
            "\n",
            "           0       0.85      0.98      0.91      5713\n",
            "           1       0.59      0.13      0.21      1137\n",
            "\n",
            "    accuracy                           0.84      6850\n",
            "   macro avg       0.72      0.56      0.56      6850\n",
            "weighted avg       0.81      0.84      0.80      6850\n",
            "\n",
            "-------------------------\n",
            "Wall time: 9min 8s\n"
          ],
          "name": "stdout"
        }
      ]
    },
    {
      "cell_type": "code",
      "metadata": {
        "hidden": true,
        "id": "dzRQwmRxc_uc",
        "outputId": "660a7564-a4df-404f-b62e-d4ad040b23aa"
      },
      "source": [
        "# Generalizing the model to remove overfitting\n",
        "model_params = {'max_depth': [3], 'colsample_bytree': [0.7],\n",
        "                'colsample_bylevel': [0.7], 'use_label_encoder': [False],\n",
        "                'subsample': [0.7], 'random_state': [42], 'gpu_id': [0],\n",
        "                'tree_method': ['gpu_hist'], 'n_jobs': [-1],\n",
        "                'n_estimators': [120], 'learning_rate': [0.15, 0.1, 0.05, 0.01],\n",
        "                'min_child_weight': [6], \n",
        "                'reg_lambda': [9], \n",
        "                'gamma': [19], \n",
        "                }\n",
        "prep_params = {'preprocessor__numeric__NumericImputer__fill_value':  [9999],\n",
        "               'preprocessor__numeric__RobustScaler__quantile_range': [(5.0, 95.0)],\n",
        "               'preprocessor__categorical__CategImputer__strategy': ['constant']\n",
        "               }\n",
        "fit_params = {'eval_metric': 'auc',\n",
        "                        'eval_set': [(prep.fit(Xt_train).transform(Xt_test), y_test)],\n",
        "                        'early_stopping_rounds': 10, 'verbose': False}\n",
        "\n",
        "\n",
        "parameter_combinations = {**{'classifier__'+str(key):val for key,val in model_params.items()},**prep_params}\n",
        "gfit_params = {'classifier__'+str(key): val for key, val in fit_params.items()}\n",
        "gneral_PXBG = Pipeline([('preprocessor', preprocessor),\n",
        "                        ('classifier', XGBClassifier())])\n",
        "\n",
        "general_search = Generalizer(gneral_PXBG, X[best_features], y, gfit_params)\n",
        "general_search.generalize(parameter_combinations, base_cv_score=0.7787, cv_diff_threshold=0.01)\n",
        "print('Best params:', general_search.best_params)\n",
        "print('Lowest Difference:', round(general_search.lowest_diff, 3))\n",
        "winsound.Beep(frequency=2500, duration=2000)"
      ],
      "execution_count": null,
      "outputs": [
        {
          "output_type": "stream",
          "text": [
            "Best params: {'classifier__colsample_bylevel': 0.7, 'classifier__colsample_bytree': 0.7, 'classifier__gamma': 19, 'classifier__gpu_id': 0, 'classifier__learning_rate': 0.05, 'classifier__max_depth': 3, 'classifier__min_child_weight': 6, 'classifier__n_estimators': 120, 'classifier__n_jobs': -1, 'classifier__random_state': 42, 'classifier__reg_lambda': 9, 'classifier__subsample': 0.7, 'classifier__tree_method': 'gpu_hist', 'classifier__use_label_encoder': False, 'preprocessor__categorical__CategImputer__strategy': 'constant', 'preprocessor__numeric__NumericImputer__fill_value': 9999, 'preprocessor__numeric__RobustScaler__quantile_range': (5.0, 95.0)}\n",
            "Lowest Difference: 0.033\n"
          ],
          "name": "stdout"
        }
      ]
    },
    {
      "cell_type": "code",
      "metadata": {
        "hidden": true,
        "id": "tlwk2SG8hFiZ",
        "outputId": "d2abec83-67cf-4b61-a1e4-bd11209f3606"
      },
      "source": [
        "# Mannual Tunning\n",
        "final_preprocess_params = {'preprocessor__numeric__NumericImputer__fill_value':  9999,\n",
        "                           'preprocessor__numeric__RobustScaler__quantile_range': (5.0, 95.0),\n",
        "                           'preprocessor__categorical__CategImputer__strategy': 'constant'\n",
        "                           }\n",
        "\n",
        "final_pxgb_params = {'max_depth': 3, 'colsample_bytree': 0.7,\n",
        "                     'colsample_bylevel': 0.7,\n",
        "                     'subsample': 0.7,\n",
        "                     'n_estimators': 120,\n",
        "                     'learning_rate': 0.05,\n",
        "                     'min_child_weight': 6, 'reg_lambda': 9, 'gamma': 19,\n",
        "                     'use_label_encoder': False, 'random_state': 42,\n",
        "                     'n_jobs': -1, 'tree_method': 'gpu_hist', 'gpu_id': 0\n",
        "                     }\n",
        "\n",
        "final_params = {**{'classifier__' +\n",
        "                   str(key): val for key, val in final_pxgb_params.items()}, **final_preprocess_params}\n",
        "\n",
        "final_xgb_fit_params = {'eval_metric': 'auc','verbose': False}\n",
        "\n",
        "final_fit_params = {'classifier__' +\n",
        "                    str(key): val for key, val in final_xgb_fit_params.items()}\n",
        "\n",
        "final_PXBG = Pipeline([('preprocessor', preprocessor),\n",
        "                       ('classifier', XGBClassifier())])\n",
        "\n",
        "final_PXBG.set_params(**final_params)\n",
        "final_PXBG.fit(Xt_train, y_train, **final_fit_params)\n",
        "model_performance(Xt_train, Xt_test, y_train, y_test, final_PXBG)\n",
        "print('AUC 5-fold CV score:', round(cross_val_score(final_PXBG, X[best_features], y, cv=5, scoring='roc_auc',\n",
        "                                                   fit_params=final_fit_params).mean(), 4))"
      ],
      "execution_count": null,
      "outputs": [
        {
          "output_type": "stream",
          "text": [
            "\n",
            "ROC AUC Train 0.788\n",
            "ROC AUC Test 0.755\n",
            "-------------------------\n",
            "\n",
            "Classification Report Train\n",
            "              precision    recall  f1-score   support\n",
            "\n",
            "           0       0.85      0.99      0.91     17137\n",
            "           1       0.71      0.10      0.18      3413\n",
            "\n",
            "    accuracy                           0.84     20550\n",
            "   macro avg       0.78      0.55      0.55     20550\n",
            "weighted avg       0.82      0.84      0.79     20550\n",
            "\n",
            "-------------------------\n",
            "\n",
            "Classification Report Test\n",
            "              precision    recall  f1-score   support\n",
            "\n",
            "           0       0.84      0.99      0.91      5713\n",
            "           1       0.64      0.08      0.15      1137\n",
            "\n",
            "    accuracy                           0.84      6850\n",
            "   macro avg       0.74      0.54      0.53      6850\n",
            "weighted avg       0.81      0.84      0.79      6850\n",
            "\n",
            "-------------------------\n",
            "AUC 5-fold CV score: 0.7704\n"
          ],
          "name": "stdout"
        }
      ]
    },
    {
      "cell_type": "code",
      "metadata": {
        "hidden": true,
        "id": "nlBuBiTCc_ud"
      },
      "source": [
        ""
      ],
      "execution_count": null,
      "outputs": []
    }
  ]
}